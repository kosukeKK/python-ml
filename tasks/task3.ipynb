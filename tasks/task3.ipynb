{
 "cells": [
  {
   "cell_type": "code",
   "execution_count": null,
   "metadata": {
    "collapsed": false
   },
   "outputs": [],
   "source": [
    "# ライブラリのインポート\n",
    "\n",
    "import numpy as np\n",
    "import matplotlib.pyplot as plt\n",
    "from sklearn.preprocessing import PolynomialFeatures\n",
    "from sklearn.pipeline import make_pipeline\n",
    "from sklearn import linear_model\n",
    "import math\n",
    "from sklearn.linear_model import LinearRegression\n",
    "\n",
    "print(\"libraries imported\")"
   ]
  },
  {
   "cell_type": "code",
   "execution_count": null,
   "metadata": {
    "collapsed": false
   },
   "outputs": [],
   "source": [
    "## 扱うデータ (x, y)\n",
    "np.random.seed(0)\n",
    "\n",
    "n_samples = 30\n",
    "degrees = [1, 4, 15]\n",
    "\n",
    "true_fun = lambda X: np.cos(1.5 * np.pi * X)\n",
    "x = np.sort(np.random.rand(n_samples))\n",
    "y = true_fun(x) + np.random.randn(n_samples) * 0.1\n",
    "\n",
    "plt.figure(figsize=(14, 5))\n",
    "\n",
    "\n",
    "print(x.shape)\n",
    "print(y.shape)\n",
    "\n",
    "x_plot = np.linspace(0, 1, 100)\n",
    "\n",
    "# create matrix versions of these arrays\n",
    "X = x[:, np.newaxis]\n",
    "X_plot = x_plot[:, np.newaxis]\n",
    "\n",
    "colors = ['teal', 'yellowgreen', 'gold']\n",
    "lw = 2\n",
    "plt.scatter(x, y, color='navy', s=30, marker='o', label=\"training points\")\n",
    "\n",
    "plt.show()"
   ]
  },
  {
   "cell_type": "code",
   "execution_count": null,
   "metadata": {
    "collapsed": false
   },
   "outputs": [],
   "source": [
    "# 自分でフィットする関数を作ってみる\n",
    "def predict(X):\n",
    "    return [predict_point(x) for x in X]\n",
    "\n",
    "# math.sin(x)を使わないでフィットする式を立ててみる\n",
    "def predict_point(x):\n",
    "    return 1 ## TASK\n",
    "\n",
    "plt.clf()\n",
    "plt.scatter(x, y, color='navy', s=30, marker='o', label=\"training points\")\n",
    "\n",
    "y_plot = predict(X_plot)\n",
    "plt.plot(x_plot, y_plot, color='blue', linewidth=lw, label=\"Handmade Prediction\")\n",
    "\n",
    "plt.show()"
   ]
  },
  {
   "cell_type": "code",
   "execution_count": null,
   "metadata": {
    "collapsed": false
   },
   "outputs": [],
   "source": [
    "## 1次元の線形回帰\n",
    "\n",
    "reg = LinearRegression()\n",
    "reg.fit(X, y)\n",
    "\n",
    "\n",
    "## 予測\n",
    "print(reg.predict([0]))\n",
    "\n",
    "## Plot\n",
    "plt.clf()\n",
    "plt.scatter(x, y, color='navy', s=30, marker='o', label=\"training points\")\n",
    "\n",
    "y_plot = reg.predict(X_plot)\n",
    "plt.plot(x_plot, y_plot, color='blue', linewidth=lw, label=\"Handmade Prediction\")\n",
    "plt.plot(x_plot, true_fun(x_plot), label=\"True function\")\n",
    "\n",
    "plt.show()"
   ]
  },
  {
   "cell_type": "code",
   "execution_count": null,
   "metadata": {
    "collapsed": false
   },
   "outputs": [],
   "source": [
    "## 2次元の線形回帰\n",
    "\n",
    "## 高次元の特徴量を追加する。x*xを追加\n",
    "reg = make_pipeline(PolynomialFeatures(2), LinearRegression())\n",
    "reg.fit(X, y)\n",
    "\n",
    "## 予測\n",
    "print(reg.predict([0]))\n",
    "\n",
    "## Plot\n",
    "plt.clf()\n",
    "plt.scatter(x, y, color='navy', s=30, marker='o', label=\"training points\")\n",
    "\n",
    "y_plot = reg.predict(X_plot)\n",
    "plt.plot(x_plot, y_plot, color='blue', linewidth=lw, label=\"Handmade Prediction\")\n",
    "plt.plot(x_plot, true_fun(x_plot), label=\"True function\")\n",
    "\n",
    "plt.show()"
   ]
  },
  {
   "cell_type": "code",
   "execution_count": null,
   "metadata": {
    "collapsed": false
   },
   "outputs": [],
   "source": [
    "## 1次元の線形回帰\n",
    "# create matrix versions of these arrays\n",
    "X = x[:, np.newaxis]\n",
    "\n",
    "for degree in range(2, 15):\n",
    "    ## 高次元の特徴量を追加する。\n",
    "    reg = make_pipeline(PolynomialFeatures(degree), LinearRegression())\n",
    "    reg.fit(X, y)\n",
    "    \n",
    "    print(\"score Y=f(x, degree={0})=\".format(degree), reg.score(X, y))\n",
    "    \n",
    "    ## Plot\n",
    "    plt.clf()\n",
    "    plt.scatter(x, y, color='navy', s=30, marker='o', label=\"training points\")\n",
    "\n",
    "    y_plot = reg.predict(X_plot)\n",
    "    plt.plot(x_plot, y_plot, color='blue', linewidth=lw, label=\"Handmade Prediction\")\n",
    "    plt.plot(x_plot, true_fun(x_plot), label=\"True function\")\n",
    "    plt.xlim((0, 1))\n",
    "    plt.ylim((-2, 2))\n",
    "    \n",
    "    plt.show()"
   ]
  }
 ],
 "metadata": {
  "kernelspec": {
   "display_name": "Python 3",
   "language": "python",
   "name": "python3"
  },
  "language_info": {
   "codemirror_mode": {
    "name": "ipython",
    "version": 3
   },
   "file_extension": ".py",
   "mimetype": "text/x-python",
   "name": "python",
   "nbconvert_exporter": "python",
   "pygments_lexer": "ipython3",
   "version": "3.5.2"
  }
 },
 "nbformat": 4,
 "nbformat_minor": 2
}
