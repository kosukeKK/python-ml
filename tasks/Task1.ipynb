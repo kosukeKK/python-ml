{
 "cells": [
  {
   "cell_type": "code",
   "execution_count": null,
   "metadata": {
    "collapsed": false,
    "scrolled": true
   },
   "outputs": [],
   "source": [
    "# ライブラリのインポート\n",
    "\n",
    "from itertools import product\n",
    "import numpy as np\n",
    "import matplotlib.pyplot as plt\n",
    "import pandas as pd\n",
    "from sklearn import datasets\n",
    "from sklearn import tree\n",
    "from sklearn.tree import DecisionTreeClassifier\n",
    "from sklearn.neighbors import KNeighborsClassifier\n",
    "from sklearn.svm import SVC\n",
    "from sklearn.discriminant_analysis import LinearDiscriminantAnalysis\n",
    "from sklearn.model_selection import cross_val_score\n",
    "from IPython.display import Image \n",
    "import pydotplus"
   ]
  },
  {
   "cell_type": "code",
   "execution_count": null,
   "metadata": {
    "collapsed": false
   },
   "outputs": [],
   "source": [
    "# データを読み込む\n",
    "\n",
    "iris = datasets.load_iris()\n",
    "\n",
    "# データを見てみる\n",
    "#print(iris)\n",
    "print(\"Data\")\n",
    "print(iris.data.__class__)\n",
    "print(iris.data)\n",
    "print(\"Classes \", iris.target_names)\n",
    "print(iris.target.__class__)\n",
    "print(iris.target)"
   ]
  },
  {
   "cell_type": "code",
   "execution_count": null,
   "metadata": {
    "collapsed": false
   },
   "outputs": [],
   "source": [
    "# データをプロットしてみる\n",
    "\n",
    "plt.clf()\n",
    "f, axarr = plt.subplots(2, 2, sharex='col', sharey='row', figsize=(11, 10))\n",
    "\n",
    "axarr[0, 0].scatter(iris.data[:, 0], iris.data[:, 1], c=iris.target, alpha=0.6)\n",
    "axarr[0, 0].set_title(iris.feature_names[0] + \" vs \" + iris.feature_names[1])\n",
    "\n",
    "axarr[0, 1].scatter(iris.data[:, 1], iris.data[:, 2], c=iris.target, alpha=0.6)\n",
    "axarr[0, 1].set_title(iris.feature_names[1] + \" vs \" + iris.feature_names[2])\n",
    "\n",
    "axarr[1, 0].scatter(iris.data[:, 0], iris.data[:, 3], c=iris.target, alpha=0.6)\n",
    "axarr[1, 0].set_title(iris.feature_names[0] + \" vs \" + iris.feature_names[3])\n",
    "\n",
    "axarr[1, 1].scatter(iris.data[:, 2], iris.data[:, 3], c=iris.target, alpha=0.6)\n",
    "axarr[1, 1].set_title(iris.feature_names[2] + \" vs \" + iris.feature_names[3])\n",
    "\n",
    "plt.show()\n",
    "\n",
    "print(iris.data[:, 0].shape)\n",
    "print(iris.data[:, 1].shape)"
   ]
  },
  {
   "cell_type": "code",
   "execution_count": null,
   "metadata": {
    "collapsed": false
   },
   "outputs": [],
   "source": [
    "# 単純化のために2次元の特徴量のみを使う\n",
    "X = iris.data[:, [0, 1]]\n",
    "y = iris.target\n",
    "\n",
    "#　識別器のインスタンスをつくる. SVM\n",
    "svm = SVC(kernel='rbf', probability=True)\n",
    "\n",
    "# 学習させる\n",
    "svm.fit(X, y)\n",
    "\n",
    "# 学習データに対する精度\n",
    "print(\"Score = {0}\".format(svm.score(X, y)))\n",
    "\n",
    "# 予測する\n",
    "for x in X:\n",
    "    print(\"Predict f(%s) = %s\" % (x, svm.predict([x])))"
   ]
  },
  {
   "cell_type": "code",
   "execution_count": null,
   "metadata": {
    "collapsed": false
   },
   "outputs": [],
   "source": [
    "# 他の識別器\n",
    "classifiers = [\n",
    "    DecisionTreeClassifier(max_depth=2),\n",
    "    KNeighborsClassifier(n_neighbors=1),\n",
    "    SVC(kernel='rbf', probability=True),\n",
    "    ]\n",
    "\n",
    "# 同じインタフェース \n",
    "for classifier in classifiers:\n",
    "    classifier.fit(X, y)\n",
    "\n",
    "# Plotting decision regions\n",
    "plt.clf()\n",
    "x_min, x_max = X[:, 0].min() - 1, X[:, 0].max() + 1\n",
    "y_min, y_max = X[:, 1].min() - 1, X[:, 1].max() + 1\n",
    "xx, yy = np.meshgrid(np.arange(x_min, x_max, 0.05), np.arange(y_min, y_max, 0.05))\n",
    "\n",
    "f, axarr = plt.subplots(2, 2, sharex='col', sharey='row', figsize=(11, 10))\n",
    "\n",
    "for index, classifier, title in zip([0, 1, 2], classifiers, ['Decision Tree (depth=2)', 'KNN (k=1)', 'Kernel SVM', 'Liner SVM']):\n",
    "    predicted = classifier.predict(np.c_[xx.ravel(), yy.ravel()])\n",
    "    predicted = predicted.reshape(xx.shape)\n",
    "    \n",
    "    #     print(predicted)\n",
    "    axarr[index // 2, index % 2].contourf(xx, yy, predicted, alpha=0.3)\n",
    "    axarr[index // 2, index % 2].scatter(X[:, 0], X[:, 1], c=y, alpha=0.6)\n",
    "    axarr[index // 2, index % 2].set_title(\"%s (%f)\" % (title, classifier.score(X, y)))\n",
    "    \n",
    "plt.show()"
   ]
  },
  {
   "cell_type": "code",
   "execution_count": null,
   "metadata": {
    "collapsed": false
   },
   "outputs": [],
   "source": [
    "## 精度の評価\n",
    "for classifier, title in zip(classifiers, ['Decision Tree (depth=2)', 'KNN (k=1)', 'Kernel SVM', 'Liner SVM']):\n",
    "    scores = cross_val_score(classifier, X, y, cv=6)\n",
    "    print(\"Cross Validation Score of %s = mean(%s) = %s\" % (title, scores, scores.mean()))"
   ]
  },
  {
   "cell_type": "code",
   "execution_count": null,
   "metadata": {
    "collapsed": false
   },
   "outputs": [],
   "source": [
    "## トレーニング後のDecision Treeを可視化\n",
    "dot_data = tree.export_graphviz(classifiers[0], out_file=None) \n",
    "graph = pydotplus.graph_from_dot_data(dot_data) \n",
    "\n",
    "Image(graph.create_png()) "
   ]
  },
  {
   "cell_type": "code",
   "execution_count": null,
   "metadata": {
    "collapsed": false
   },
   "outputs": [],
   "source": [
    "## Pandas\n",
    "iris_df = pd.DataFrame(iris.data, columns=iris.feature_names)\n",
    "\n",
    "iris_df"
   ]
  },
  {
   "cell_type": "code",
   "execution_count": null,
   "metadata": {
    "collapsed": false
   },
   "outputs": [],
   "source": [
    "## データの概要\n",
    "iris_df.describe()"
   ]
  },
  {
   "cell_type": "code",
   "execution_count": null,
   "metadata": {
    "collapsed": false
   },
   "outputs": [],
   "source": [
    "## データの相関係数\n",
    "iris_df.corr()"
   ]
  },
  {
   "cell_type": "code",
   "execution_count": null,
   "metadata": {
    "collapsed": false
   },
   "outputs": [],
   "source": [
    "## 1番目と3番目と4番目は相関が高いので3,4番目を捨てる\n",
    "iris_df_simple = iris_df.drop([\"petal length (cm)\", \"petal width (cm)\"], axis=1)\n",
    "clf = DecisionTreeClassifier(max_depth=2)\n",
    "\n",
    "print(iris_df_simple.shape)\n",
    "score = cross_val_score(clf, iris_df_simple, y, cv=6).mean()\n",
    "print(\"Cross Validation Score = %s\" % score)"
   ]
  },
  {
   "cell_type": "code",
   "execution_count": null,
   "metadata": {
    "collapsed": false
   },
   "outputs": [],
   "source": [
    "## 最適な特徴量2個をつくる\n",
    "iris_df_new = iris_df.drop([\"petal width (cm)\", \"petal length (cm)\", \"sepal length (cm)\"], axis=1)\n",
    "iris_df_new['new_feature'] =  iris_df['petal length (cm)'] + iris_df[\"petal width (cm)\"] + iris_df['sepal length (cm)'] * 0.5\n",
    "clf = DecisionTreeClassifier(max_depth=2)\n",
    "\n",
    "print(iris_df_new.shape)\n",
    "if(iris_df_new.shape != (150, 2)):\n",
    "    print(\"The size of feature vector is different. It should be (150, 2)\")\n",
    "else:\n",
    "    score = cross_val_score(clf, iris_df_new, y, cv=6).mean()\n",
    "    print(\"Cross Validation Score = %s\" % score)"
   ]
  },
  {
   "cell_type": "code",
   "execution_count": null,
   "metadata": {
    "collapsed": false
   },
   "outputs": [],
   "source": [
    "## パラメータのグリッドサーチ\n",
    "from sklearn.model_selection import GridSearchCV\n",
    "\n",
    "search_params = [{\n",
    "    'criterion': ['gini', 'entropy'],\n",
    "    'max_depth': [1, 2, 3, 4, 5, 6, 7],\n",
    "    'max_features': [None, \"auto\"],\n",
    "}]\n",
    "\n",
    "tuned_clf = GridSearchCV(DecisionTreeClassifier(random_state=1), search_params, cv=6)\n",
    "tuned_clf.fit(iris_df_new, y)\n",
    "print(\"Best Score %s \" % tuned_clf.best_score_)\n",
    "print(\"Best Params %s \" % tuned_clf.best_params_)"
   ]
  },
  {
   "cell_type": "code",
   "execution_count": null,
   "metadata": {
    "collapsed": false
   },
   "outputs": [],
   "source": [
    "## 同じ特徴量2個での比較\n",
    "\n",
    "### 既存の特徴量data[0], data[3]と、デフォルトパラメータのDecisionTree\n",
    "data_1 = X\n",
    "first_decision_tree = classifiers[0]\n",
    "score = cross_val_score(first_decision_tree, data_1, iris.target, cv=6).mean()\n",
    "print(\"Cross Validation Score(first) = %s\" % score)\n",
    "\n",
    "### 新しい特徴量とパラメータチューニングしたDecisionTree\n",
    "data_2 = iris_df_new\n",
    "first_decision_tree = tuned_clf\n",
    "\n",
    "score = cross_val_score(first_decision_tree, data_2, iris.target, cv=6).mean()\n",
    "print(\"Cross Validation Score(tuned) = %s\" % score)\n"
   ]
  }
 ],
 "metadata": {
  "kernelspec": {
   "display_name": "Python 3",
   "language": "python",
   "name": "python3"
  },
  "language_info": {
   "codemirror_mode": {
    "name": "ipython",
    "version": 3
   },
   "file_extension": ".py",
   "mimetype": "text/x-python",
   "name": "python",
   "nbconvert_exporter": "python",
   "pygments_lexer": "ipython3",
   "version": "3.5.2"
  }
 },
 "nbformat": 4,
 "nbformat_minor": 2
}
